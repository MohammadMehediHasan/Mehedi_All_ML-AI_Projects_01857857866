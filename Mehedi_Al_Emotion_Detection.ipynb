{
  "nbformat": 4,
  "nbformat_minor": 0,
  "metadata": {
    "colab": {
      "provenance": []
    },
    "kernelspec": {
      "name": "python3",
      "display_name": "Python 3"
    },
    "language_info": {
      "name": "python"
    }
  },
  "cells": [
    {
      "cell_type": "code",
      "execution_count": 2,
      "metadata": {
        "colab": {
          "base_uri": "https://localhost:8080/"
        },
        "id": "YrPiMuR3LrOc",
        "outputId": "6041741d-effc-4d67-edec-821aaf8bd1bb"
      },
      "outputs": [
        {
          "output_type": "stream",
          "name": "stdout",
          "text": [
            "Mounted at /content/drive\n"
          ]
        }
      ],
      "source": [
        "from google.colab import drive\n",
        "drive.mount('/content/drive')\n"
      ]
    },
    {
      "cell_type": "code",
      "source": [
        "%cd '/content/drive/MyDrive/emotion-detection-dataset'\n"
      ],
      "metadata": {
        "colab": {
          "base_uri": "https://localhost:8080/"
        },
        "id": "8988cIZOL4MB",
        "outputId": "ec2376f3-015a-499a-87a1-d177033f6c4d"
      },
      "execution_count": 3,
      "outputs": [
        {
          "output_type": "stream",
          "name": "stdout",
          "text": [
            "/content/drive/MyDrive/emotion-detection-dataset\n"
          ]
        }
      ]
    },
    {
      "cell_type": "code",
      "source": [
        "import pandas as pd\n",
        "\n",
        "train_df = pd.read_csv('train.txt', sep=';', header=None, names=['text', 'emotion'])\n",
        "test_df = pd.read_csv('test.txt', sep=';', header=None, names=['text', 'emotion'])\n",
        "val_df = pd.read_csv('val.txt', sep=';', header=None, names=['text', 'emotion'])\n"
      ],
      "metadata": {
        "id": "iGhpOgnSMAyh"
      },
      "execution_count": 4,
      "outputs": []
    },
    {
      "cell_type": "code",
      "source": [
        "import pandas as pd\n",
        "\n",
        "# Read the train.txt file into a pandas dataframe\n",
        "train_df = pd.read_csv('/content/drive/MyDrive/emotion-detection-dataset/train.txt', sep=';', header=None, names=['text', 'emotion'])\n",
        "\n",
        "# Display the first 5 rows of the dataframe\n",
        "print(train_df.head())\n"
      ],
      "metadata": {
        "colab": {
          "base_uri": "https://localhost:8080/"
        },
        "id": "Rmt20dBBMgZN",
        "outputId": "e06ea37c-1138-4c96-e50e-32ba83a61a40"
      },
      "execution_count": null,
      "outputs": [
        {
          "output_type": "stream",
          "name": "stdout",
          "text": [
            "                                                text  emotion\n",
            "0                            i didnt feel humiliated  sadness\n",
            "1  i can go from feeling so hopeless to so damned...  sadness\n",
            "2   im grabbing a minute to post i feel greedy wrong    anger\n",
            "3  i am ever feeling nostalgic about the fireplac...     love\n",
            "4                               i am feeling grouchy    anger\n"
          ]
        }
      ]
    },
    {
      "cell_type": "code",
      "source": [
        "import pandas as pd\n",
        "\n",
        "# Read the test.txt file into a pandas dataframe\n",
        "test_df = pd.read_csv('/content/drive/MyDrive/emotion-detection-dataset/test.txt', sep=';', header=None, names=['text', 'emotion'])\n",
        "\n",
        "# Display the first 5 rows of the dataframe\n",
        "print(test_df.head())\n"
      ],
      "metadata": {
        "colab": {
          "base_uri": "https://localhost:8080/"
        },
        "id": "_9r58ukxMmdc",
        "outputId": "51db7fb8-24e7-41e6-fe47-2db3c4737441"
      },
      "execution_count": null,
      "outputs": [
        {
          "output_type": "stream",
          "name": "stdout",
          "text": [
            "                                                text  emotion\n",
            "0  im feeling rather rotten so im not very ambiti...  sadness\n",
            "1          im updating my blog because i feel shitty  sadness\n",
            "2  i never make her separate from me because i do...  sadness\n",
            "3  i left with my bouquet of red and yellow tulip...      joy\n",
            "4    i was feeling a little vain when i did this one  sadness\n"
          ]
        }
      ]
    },
    {
      "cell_type": "code",
      "source": [
        "#Final_ProjectCode_ID_1944_1863\n",
        "#Naive Bayes Classifier\n",
        "import pandas as pd\n",
        "import numpy as np\n",
        "from collections import Counter\n",
        "\n",
        "# Read the dataset into pandas dataframes\n",
        "train_df = pd.read_csv('/content/drive/MyDrive/emotion-detection-dataset/train.txt', sep=';', header=None, names=['text', 'emotion'])\n",
        "test_df = pd.read_csv('/content/drive/MyDrive/emotion-detection-dataset/test.txt', sep=';', header=None, names=['text', 'emotion'])\n",
        "val_df = pd.read_csv('/content/drive/MyDrive/emotion-detection-dataset/val.txt', sep=';', header=None, names=['text', 'emotion'])\n",
        "\n",
        "# Create a dictionary to store the word frequencies for each emotion\n",
        "freqs = {}\n",
        "\n",
        "# Iterate through the training set and count the word frequencies for each emotion\n",
        "for i in range(len(train_df)):\n",
        "    words = train_df.iloc[i]['text'].split()\n",
        "    emotion = train_df.iloc[i]['emotion']\n",
        "    if emotion not in freqs:\n",
        "        freqs[emotion] = Counter()\n",
        "    freqs[emotion].update(words)\n",
        "\n",
        "# Compute the total number of words in each emotion\n",
        "n_words = {}\n",
        "for emotion in freqs.keys():\n",
        "    n_words[emotion] = sum(freqs[emotion].values())\n",
        "\n",
        "# Compute the vocabulary size\n",
        "vocab = set()\n",
        "for emotion in freqs.keys():\n",
        "    vocab.update(freqs[emotion].keys())\n",
        "vocab_size = len(vocab)\n",
        "\n",
        "# Define a function to compute the log probabilities for each word in each emotion\n",
        "def log_probs(text, freqs, n_words, vocab_size, alpha=1):\n",
        "    log_prob = {}\n",
        "    for emotion in freqs.keys():\n",
        "        log_prob[emotion] = np.log(n_words[emotion] + alpha * vocab_size)\n",
        "        for word in text.split():\n",
        "            log_prob[emotion] += np.log(freqs[emotion][word] + alpha)\n",
        "            log_prob[emotion] -= np.log(n_words[emotion] + alpha * vocab_size)\n",
        "    return log_prob\n",
        "\n",
        "# Define a function to predict the emotion of a given text using Naive Bayes Classifier\n",
        "def predict(text, freqs, n_words, vocab_size, alpha=1):\n",
        "    log_prob = log_probs(text, freqs, n_words, vocab_size, alpha)\n",
        "    emotion = max(log_prob, key=log_prob.get)\n",
        "    return emotion\n",
        "\n",
        "# Test the model on a user input\n",
        "text = input(\"Enter a sentence: \")\n",
        "emotion = predict(text, freqs, n_words, vocab_size)\n",
        "print(\"Naive Bayes Classifier Prediction: \", emotion)\n",
        "\n",
        "# Compute the accuracy of the model on the test set\n",
        "y_true = test_df['emotion'].tolist()\n",
        "y_pred = [predict(text, freqs, n_words, vocab_size) for text in test_df['text'].tolist()]\n",
        "accuracy = sum(np.array(y_true) == np.array(y_pred)) / len(y_true)\n",
        "print(\"Naive Bayes Classifier Accuracy: \", accuracy)\n"
      ],
      "metadata": {
        "colab": {
          "base_uri": "https://localhost:8080/"
        },
        "id": "wS97oIKkN790",
        "outputId": "4193dea2-66a5-4014-b35b-ba5fe3929f5e"
      },
      "execution_count": 5,
      "outputs": [
        {
          "output_type": "stream",
          "name": "stdout",
          "text": [
            "Enter a sentence: I am feeling happy today\n",
            "Naive Bayes Classifier Prediction:  joy\n",
            "Naive Bayes Classifier Accuracy:  0.773\n"
          ]
        }
      ]
    },
    {
      "cell_type": "code",
      "source": [
        "#Final_ProjectCode_ID_1944_1863\n",
        "#K-Nearest Neighbors\n",
        "import pandas as pd\n",
        "import numpy as np\n",
        "from sklearn.feature_extraction.text import CountVectorizer\n",
        "from sklearn.neighbors import KNeighborsClassifier\n",
        "from sklearn.model_selection import cross_val_score\n",
        "\n",
        "# Read in the data using pandas\n",
        "train_df = pd.read_csv('train.txt', sep=';', header=None, names=['text', 'emotion'])\n",
        "test_df = pd.read_csv('test.txt', sep=';', header=None, names=['text', 'emotion'])\n",
        "val_df = pd.read_csv('val.txt', sep=';', header=None, names=['text', 'emotion'])\n",
        "\n",
        "# Combine the data into one dataframe\n",
        "data_df = pd.concat([train_df, test_df, val_df])\n",
        "\n",
        "# Vectorize the text using a bag-of-words model\n",
        "vectorizer = CountVectorizer()\n",
        "X = vectorizer.fit_transform(data_df['text'].values)\n",
        "\n",
        "# Create the target labels\n",
        "y = data_df['emotion'].values\n",
        "\n",
        "# Split the data into training and testing sets\n",
        "X_train = X[:len(train_df)]\n",
        "y_train = y[:len(train_df)]\n",
        "X_test = X[len(train_df):(len(train_df) + len(test_df))]\n",
        "y_test = y[len(train_df):(len(train_df) + len(test_df))]\n",
        "\n",
        "# Define the KNN model and fit the training data\n",
        "k = 5  # Number of neighbors to consider\n",
        "model = KNeighborsClassifier(n_neighbors=k)\n",
        "model.fit(X_train, y_train)\n",
        "\n",
        "# Make predictions for user input\n",
        "user_input = input(\"Enter a sentence: \")\n",
        "user_input_vectorized = vectorizer.transform([user_input])\n",
        "prediction = model.predict(user_input_vectorized)[0]\n",
        "\n",
        "print(\"K-Nearest Neighbors Classifier Prediction:\", prediction)\n",
        "\n",
        "# Calculate the accuracy of the model using cross-validation\n",
        "scores = cross_val_score(model, X, y, cv=5)\n",
        "accuracy = np.mean(scores)\n",
        "\n",
        "print(\"K-Nearest Neighbors Classifier Accuracy:\", accuracy)\n"
      ],
      "metadata": {
        "colab": {
          "base_uri": "https://localhost:8080/"
        },
        "id": "gytEpni5bCHP",
        "outputId": "3f9ea73f-8625-469d-dc67-14b051eb741b"
      },
      "execution_count": null,
      "outputs": [
        {
          "output_type": "stream",
          "name": "stdout",
          "text": [
            "Enter a sentence: i feel beautifully emotional knowing that these women of whom i knew just a handful were holding me and my baba on our journey\n",
            "K-Nearest Neighbors Classifier Prediction: sadness\n",
            "K-Nearest Neighbors Classifier Accuracy: 0.4014500000000001\n"
          ]
        }
      ]
    },
    {
      "cell_type": "code",
      "source": [
        "#Final_ProjectCode_ID_1944_1863\n",
        "#Linear Regression\n",
        "import numpy as np\n",
        "import pandas as pd\n",
        "from sklearn.feature_extraction.text import TfidfVectorizer\n",
        "from sklearn.preprocessing import LabelEncoder\n",
        "from sklearn.metrics import accuracy_score\n",
        "\n",
        "# Define the Linear Regression Classifier\n",
        "class LinearRegression:\n",
        "    def __init__(self, lr=0.01, n_iters=1000):\n",
        "        self.lr = lr\n",
        "        self.n_iters = n_iters\n",
        "        self.weights = None\n",
        "        self.bias = None\n",
        "\n",
        "    def fit(self, X, y):\n",
        "        # Initialize the weights and bias to zero\n",
        "        n_samples = X.shape[0]\n",
        "        self.weights = np.zeros(X.shape[1])\n",
        "        self.bias = 0\n",
        "\n",
        "        # Gradient descent\n",
        "        for _ in range(self.n_iters):\n",
        "            y_predicted = np.dot(X, self.weights) + self.bias\n",
        "            dw = (1 / n_samples) * np.dot(X.T, (y_predicted - y))\n",
        "            db = (1 / n_samples) * np.sum(y_predicted - y)\n",
        "            self.weights -= self.lr * dw\n",
        "            self.bias -= self.lr * db\n",
        "\n",
        "    def predict(self, X):\n",
        "        y_predicted = np.dot(X, self.weights) + self.bias\n",
        "        return y_predicted\n",
        "\n",
        "\n",
        "# Load the dataset\n",
        "train_df = pd.read_csv('train.txt', sep=';', header=None, names=['text', 'emotion'])\n",
        "test_df = pd.read_csv('test.txt', sep=';', header=None, names=['text', 'emotion'])\n",
        "val_df = pd.read_csv('val.txt', sep=';', header=None, names=['text', 'emotion'])\n",
        "\n",
        "# Preprocess the dataset\n",
        "vectorizer = TfidfVectorizer(stop_words='english', ngram_range=(1, 3))\n",
        "X_train = vectorizer.fit_transform(train_df['text']).toarray()\n",
        "le = LabelEncoder()\n",
        "y_train = le.fit_transform(train_df['emotion'])\n",
        "\n",
        "# Train the Linear Regression model\n",
        "lr = LinearRegression()\n",
        "lr.fit(X_train, y_train)\n",
        "\n",
        "# Make predictions on the test set\n",
        "X_test = vectorizer.transform(test_df['text']).toarray()\n",
        "y_test = le.transform(test_df['emotion'])\n",
        "y_pred = lr.predict(X_test)\n",
        "\n",
        "# Convert the predicted numerical labels back to categorical labels\n",
        "y_pred = le.inverse_transform(y_pred.astype(int))\n",
        "\n",
        "# Calculate the accuracy of the Linear Regression model\n",
        "accuracy = accuracy_score(test_df['emotion'], y_pred)\n",
        "print(\"Linear Regression Classifier Accuracy:\", accuracy)\n",
        "\n",
        "# Test the Linear Regression model with user input\n",
        "user_input = input(\"Enter a sentence: \")\n",
        "X_input = vectorizer.transform([user_input]).toarray()\n",
        "y_input = le.inverse_transform(lr.predict(X_input).astype(int))\n",
        "print(\"Linear Regression Classifier Prediction:\", y_input[0])\n"
      ],
      "metadata": {
        "colab": {
          "base_uri": "https://localhost:8080/"
        },
        "id": "jpzyBOAfdhmN",
        "outputId": "12396de7-f9a0-4d18-93f4-abbf07a58a0a"
      },
      "execution_count": null,
      "outputs": [
        {
          "output_type": "stream",
          "name": "stdout",
          "text": [
            "Linear Regression Classifier Accuracy: 0.3475\n",
            "Enter a sentence: I am feeling happy today\n",
            "Linear Regression Classifier Prediction: joy\n"
          ]
        }
      ]
    }
  ]
}